{
  "nbformat": 4,
  "nbformat_minor": 0,
  "metadata": {
    "colab": {
      "provenance": [],
      "toc_visible": true,
      "authorship_tag": "ABX9TyMvD+tdfju4qzC9+sY9MvN/",
      "include_colab_link": true
    },
    "kernelspec": {
      "name": "python3",
      "display_name": "Python 3"
    },
    "language_info": {
      "name": "python"
    }
  },
  "cells": [
    {
      "cell_type": "markdown",
      "metadata": {
        "id": "view-in-github",
        "colab_type": "text"
      },
      "source": [
        "<a href=\"https://colab.research.google.com/github/yoradzasky/2025-AI-TI1B/blob/main/Jobsheet_03.ipynb\" target=\"_parent\"><img src=\"https://colab.research.google.com/assets/colab-badge.svg\" alt=\"Open In Colab\"/></a>"
      ]
    },
    {
      "cell_type": "markdown",
      "source": [
        "# JOBSHEET 3 PENGUKURAN STATISTIK DESKRIPTIF\n"
      ],
      "metadata": {
        "id": "ed72j3O8lgZ1"
      }
    },
    {
      "cell_type": "markdown",
      "source": [
        "## Latihan"
      ],
      "metadata": {
        "id": "W5um1NHTlrSY"
      }
    },
    {
      "cell_type": "markdown",
      "source": [
        "### Central Tendency"
      ],
      "metadata": {
        "id": "JPNQklBbl2Ze"
      }
    },
    {
      "cell_type": "code",
      "execution_count": null,
      "metadata": {
        "colab": {
          "base_uri": "https://localhost:8080/"
        },
        "id": "_RUogdzpknpm",
        "outputId": "e829737c-a7d8-441f-a99a-b24f293dd454"
      },
      "outputs": [
        {
          "output_type": "stream",
          "name": "stdout",
          "text": [
            "82.11111111111111\n"
          ]
        }
      ],
      "source": [
        "import numpy as np\n",
        "\n",
        "score = [90, 80, 70, 65, 110, 80, 83, 67, 94]\n",
        "\n",
        "x = np.mean(score)\n",
        "print(x)\n",
        "\n"
      ]
    },
    {
      "cell_type": "code",
      "source": [
        "import numpy as np\n",
        "\n",
        "score = [90, 80, 70, 65, 110, 80, 83, 67, 94]\n",
        "\n",
        "x = np.median(score)\n",
        "print(x)"
      ],
      "metadata": {
        "colab": {
          "base_uri": "https://localhost:8080/"
        },
        "id": "X9HxhpaxmC1l",
        "outputId": "d09d577f-bc1d-4926-d7ae-04880a41dd64"
      },
      "execution_count": null,
      "outputs": [
        {
          "output_type": "stream",
          "name": "stdout",
          "text": [
            "80.0\n"
          ]
        }
      ]
    },
    {
      "cell_type": "code",
      "source": [
        "from scipy import stats\n",
        "\n",
        "score = [90, 80, 70, 65, 110, 80, 83, 67, 94]\n",
        "\n",
        "x = stats.mode(score, keepdims=True)\n"
      ],
      "metadata": {
        "colab": {
          "base_uri": "https://localhost:8080/"
        },
        "id": "8KgHmfvLnU9Y",
        "outputId": "5e9dcf7b-ab08-43c5-c34d-04e66d224528"
      },
      "execution_count": null,
      "outputs": [
        {
          "output_type": "stream",
          "name": "stdout",
          "text": [
            "ModeResult(mode=array([80]), count=array([2]))\n"
          ]
        }
      ]
    },
    {
      "cell_type": "markdown",
      "source": [
        "### Spread"
      ],
      "metadata": {
        "id": "iDV09SsS2cjK"
      }
    },
    {
      "cell_type": "code",
      "source": [
        "import numpy as np\n",
        "\n",
        "data = [2, 3, 7, 8, 9, 12, 15, 20, 50, 42]\n",
        "\n",
        "minimum = np.min(data)\n",
        "maximum = np.max(data)\n",
        "x = maximum - minimum\n",
        "print(x)\n"
      ],
      "metadata": {
        "colab": {
          "base_uri": "https://localhost:8080/"
        },
        "id": "6xLdzznmoNTK",
        "outputId": "ebfc0d3e-b17c-4ae9-a141-c50b796d3fde"
      },
      "execution_count": null,
      "outputs": [
        {
          "output_type": "stream",
          "name": "stdout",
          "text": [
            "48\n"
          ]
        }
      ]
    },
    {
      "cell_type": "code",
      "source": [
        "import numpy as np\n",
        "\n",
        "data = [90, 80, 70, 65, 110, 80, 83, 67, 94]\n",
        "\n",
        "x = np.percentile(data, 90)\n",
        "print(x)"
      ],
      "metadata": {
        "id": "ux3dRCgwoxS7",
        "colab": {
          "base_uri": "https://localhost:8080/"
        },
        "outputId": "cbfc8f1e-1663-4dfb-a537-bfd4fcce826a"
      },
      "execution_count": 1,
      "outputs": [
        {
          "output_type": "stream",
          "name": "stdout",
          "text": [
            "97.2\n"
          ]
        }
      ]
    },
    {
      "cell_type": "code",
      "source": [
        "import numpy as np\n",
        "\n",
        "data = [3, 4, 4, 5, 5, 6, 6, 7, 8, 8, 9, 10]\n",
        "\n",
        "Q1 = np.median(data[:int(len(data)/2)])\n",
        "import numpy as np\n",
        "\n",
        "data = [3, 4, 4, 5, 5, 6, 6, 7, 8, 8, 9, 10]\n",
        "\n",
        "Q1 = np.median(data[:int(len(data)/2)])\n",
        "import numpy as np\n",
        "\n",
        "data = [3, 4, 4, 5, 5, 6, 6, 7, 8, 8, 9, 10]\n",
        "\n",
        "Q1 = np.median(data[:int(len(data)/2)])\n",
        "Q3 = np.median(data[int(len(data)/2):])\n",
        "IQR = Q3 - Q1\n",
        "print(\"Q1 =\", Q1, \"Q3 =\", Q3,\"IQR =\", IQR)"
      ],
      "metadata": {
        "colab": {
          "base_uri": "https://localhost:8080/"
        },
        "id": "4mRuyAgp2oyS",
        "outputId": "d5878ac1-03fe-4da0-b816-d69bdb0e008d"
      },
      "execution_count": 7,
      "outputs": [
        {
          "output_type": "stream",
          "name": "stdout",
          "text": [
            "Q1 = 4.5 Q3 = 8.0 IQR = 3.5\n"
          ]
        }
      ]
    },
    {
      "cell_type": "code",
      "source": [
        "import numpy as np\n",
        "\n",
        "data= [86, 87, 88, 86, 87, 85, 86]\n",
        "\n",
        "mean = np.mean(data)\n",
        "var = np.var(data)\n",
        "std = np.std(data)\n",
        "print(\"mean =\",mean)\n",
        "print(\"var =\", var)\n",
        "print( \"std =\", std)"
      ],
      "metadata": {
        "colab": {
          "base_uri": "https://localhost:8080/"
        },
        "id": "WDOS8nzA2xYc",
        "outputId": "bbc3e9cf-ba43-4e56-8964-046a87a88154"
      },
      "execution_count": 11,
      "outputs": [
        {
          "output_type": "stream",
          "name": "stdout",
          "text": [
            "mean = 86.42857142857143\n",
            "var = 0.8163265306122449\n",
            "std = 0.9035079029052513\n"
          ]
        }
      ]
    },
    {
      "cell_type": "markdown",
      "source": [
        "## Tugas Praktikkum"
      ],
      "metadata": {
        "id": "K7hxdBOa5TR_"
      }
    },
    {
      "cell_type": "code",
      "source": [
        "from scipy import stats\n",
        "data = [1, 2, 3, 4, 5, 5, 6, 2, 3, 4, 5, 6,\n",
        "6, 4, 3, 2, 1, 4, 3, 5, 6, 6, 5, 4, 5]\n",
        "x = stats.mode(data, keepdims=True)\n",
        "print(x)"
      ],
      "metadata": {
        "colab": {
          "base_uri": "https://localhost:8080/"
        },
        "id": "KnWQGdjC5Xbr",
        "outputId": "3464bdbd-30bf-4f6f-8ced-db5ab2811193"
      },
      "execution_count": 13,
      "outputs": [
        {
          "output_type": "stream",
          "name": "stdout",
          "text": [
            "ModeResult(mode=array([5]), count=array([6]))\n"
          ]
        }
      ]
    },
    {
      "cell_type": "code",
      "source": [
        "import numpy as np\n",
        "import numpy as np\n",
        "\n",
        "data = [9, 10, 11, 6, 8, 7, 7, 5, 4, 5]\n",
        "p25 = np.percentile(data, 25)\n",
        "p75 = np.percentile(data, 75)\n",
        "\n",
        "print(\"Persentil ke-25:\", p25)\n",
        "print(\"Persentil ke-75:\", p75)\n"
      ],
      "metadata": {
        "colab": {
          "base_uri": "https://localhost:8080/"
        },
        "id": "QOrjfyJD5Z1s",
        "outputId": "1cabe2ea-e72d-4d01-91be-a7f57ce9afbb"
      },
      "execution_count": 22,
      "outputs": [
        {
          "output_type": "stream",
          "name": "stdout",
          "text": [
            "Persentil ke-25: 5.25\n",
            "Persentil ke-75: 8.75\n"
          ]
        }
      ]
    },
    {
      "cell_type": "code",
      "source": [
        "import numpy as np\n",
        "\n",
        "\n",
        "data = [50, 54, 62, 50, 52, 59, 61, 63, 65,\n",
        "10, 53, 63, 65, 50, 59, 62, 50, 51, 57, 60,\n",
        "63, 65, 65, 53, 99]\n",
        "import numpy as np\n",
        "\n",
        "\n",
        "data = [50, 54, 62, 50, 52, 59, 61, 63, 65,\n",
        "10, 53, 63, 65, 50, 59, 62, 50, 51, 57, 60,\n",
        "63, 65, 65, 53, 99]\n",
        "\n",
        "# a.Urutkan data\n",
        "data_sorted = sorted(data)\n",
        "print(\"1. Data yang telah diurutkan:\")\n",
        "print(data_sorted)\n",
        "\n",
        "# b. Hitung Q1, Q3, dan IQR\n",
        "q1 = np.percentile(data_sorted, 25)\n",
        "q3 = np.percentile(data_sorted, 75)\n",
        "iqr = q3 - q1\n",
        "print(\"\\n2. Kuartil dan IQR:\")\n",
        "print(\"Q1 (Kuartil 1):\", q1)\n",
        "print(\"Q3 (Kuartil 3):\", q3)\n",
        "print(\"IQR (Q3 - Q1) :\", iqr)\n",
        "\n",
        "# c. Hitung batas bawah dan atas\n",
        "lower_bound = q1 - 1.5 * iqr\n",
        "upper_bound = q3 + 1.5 * iqr\n",
        "print(\"\\n3. Batas Bawah dan Atas:\")\n",
        "print(\"Lower Bound :\", lower_bound)\n",
        "print(\"Upper Bound :\", upper_bound)\n",
        "\n",
        "# d. Identifikasi nilai outlier\n",
        "outliers = [x for x in data if x < lower_bound or x > upper_bound]\n"
      ],
      "metadata": {
        "colab": {
          "base_uri": "https://localhost:8080/"
        },
        "id": "Eau4NBPx5mmp",
        "outputId": "5b5a7c45-4554-4486-9f5e-5498e616ad90"
      },
      "execution_count": 21,
      "outputs": [
        {
          "output_type": "stream",
          "name": "stdout",
          "text": [
            "1. Data yang telah diurutkan:\n",
            "[10, 50, 50, 50, 50, 51, 52, 53, 53, 54, 57, 59, 59, 60, 61, 62, 62, 63, 63, 63, 65, 65, 65, 65, 99]\n",
            "\n",
            "2. Kuartil dan IQR:\n",
            "Q1 (Kuartil 1): 52.0\n",
            "Q3 (Kuartil 3): 63.0\n",
            "IQR (Q3 - Q1) : 11.0\n",
            "\n",
            "3. Batas Bawah dan Atas:\n",
            "Lower Bound : 35.5\n",
            "Upper Bound : 79.5\n"
          ]
        }
      ]
    },
    {
      "cell_type": "code",
      "source": [
        "import numpy as np\n",
        "\n",
        "# Titik tengah setiap kelas\n",
        "data = [43, 48, 52.5, 58, 63, 68]\n",
        "frekuensi = [2, 3, 6, 4, 5, 2]\n",
        "\n",
        "# Hitung mean\n",
        "mean = np.sum(np.multiply(data, frekuensi)) / np.sum(frekuensi)\n",
        "\n",
        "# Hitung varians\n",
        "var = np.sum(np.multiply(frekuensi, (np.array(data) - mean) ** 2)) / np.sum(frekuensi)\n",
        "\n",
        "import numpy as np\n",
        "\n",
        "# Titik tengah setiap kelas\n",
        "data = [43, 48, 52.5, 58, 63, 68]\n",
        "frekuensi = [2, 3, 6, 4, 5, 2]\n",
        "\n",
        "# Hitung mean\n",
        "mean = np.sum(np.multiply(data, frekuensi)) / np.sum(frekuensi)\n",
        "\n",
        "# Hitung varians\n",
        "var = np.sum(np.multiply(frekuensi, (np.array(data) - mean) ** 2)) / np.sum(frekuensi)\n",
        "\n",
        "# Hitung standar deviasi\n",
        "std = np.sqrt(var)\n",
        "\n",
        "print(\"Mean:\", mean)\n",
        "print(\"Variance:\", var)\n",
        "print(\"Standard Deviation:\", std)"
      ],
      "metadata": {
        "colab": {
          "base_uri": "https://localhost:8080/"
        },
        "id": "2367CvMO53W-",
        "outputId": "7a67bf62-dda9-4a7a-8c19-f28423a69d04"
      },
      "execution_count": 24,
      "outputs": [
        {
          "output_type": "stream",
          "name": "stdout",
          "text": [
            "Mean: 55.81818181818182\n",
            "Variance: 52.353305785123965\n",
            "Standard Deviation: 7.235558429390503\n"
          ]
        }
      ]
    },
    {
      "cell_type": "code",
      "source": [],
      "metadata": {
        "id": "6Z-lxVkt6oQ-"
      },
      "execution_count": null,
      "outputs": []
    }
  ]
}